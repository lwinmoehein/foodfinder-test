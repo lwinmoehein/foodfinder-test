{
 "cells": [
  {
   "cell_type": "code",
   "execution_count": null,
   "metadata": {},
   "outputs": [],
   "source": [
    "import mysql.connector\n",
    "import csv\n",
    "mydb = mysql.connector.connect(\n",
    "  host=\"localhost\",\n",
    "  user=\"kth\",\n",
    "  passwd=\"root\",\n",
    "  database=\"blogtest\"\n",
    ")\n",
    "\n",
    "with open('/home/z/Downloads/myanmar-township-master/myanmar-townships.csv') as csvfile:\n",
    "    readCSV = csv.reader(csvfile, delimiter=',')\n",
    "    dates = []\n",
    "    colors = []\n",
    "    for row in readCSV:\n",
    "        mycursor = mydb.cursor()\n",
    "        sql = \"INSERT INTO shop_cities (township,division,region) VALUES (%s,%s, %s)\"\n",
    "        val = (row[2],row[1],row[0])\n",
    "        mycursor.execute(sql, val)\n",
    "        mydb.commit()\n",
    "        color = row[2]\n",
    "        date = row[0]\n",
    "        dates.append(color)\n",
    "print(dates)"
   ]
  },
  {
   "cell_type": "code",
   "execution_count": null,
   "metadata": {},
   "outputs": [],
   "source": []
  },
  {
   "cell_type": "code",
   "execution_count": null,
   "metadata": {},
   "outputs": [],
   "source": []
  }
 ],
 "metadata": {
  "kernelspec": {
   "display_name": "Python 3",
   "language": "python",
   "name": "python3"
  },
  "language_info": {
   "codemirror_mode": {
    "name": "ipython",
    "version": 3
   },
   "file_extension": ".py",
   "mimetype": "text/x-python",
   "name": "python",
   "nbconvert_exporter": "python",
   "pygments_lexer": "ipython3",
   "version": "3.7.3"
  }
 },
 "nbformat": 4,
 "nbformat_minor": 2
}
